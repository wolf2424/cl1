{
 "cells": [
  {
   "cell_type": "markdown",
   "id": "8684a83b",
   "metadata": {},
   "source": [
    "Reinforcement Learning\n",
    "\n",
    "Implement Reinforcement Learning using an example of a maze environment that the\n",
    "agent needs to explore."
   ]
  },
  {
   "cell_type": "code",
   "execution_count": 1,
   "id": "38711f68",
   "metadata": {
    "scrolled": false
   },
   "outputs": [
    {
     "name": "stdout",
     "output_type": "stream",
     "text": [
      "Agent moved to state: 1\n",
      "Agent moved to state: 2\n",
      "Agent moved to state: 3\n",
      "Agent moved to state: 4\n",
      "Agent moved to state: 5\n",
      "Agent moved to state: 6\n",
      "Agent moved to state: 7\n",
      "Agent moved to state: 8\n",
      "Agent moved to state: 9\n",
      "Agent moved to state: 10\n",
      "Agent moved to state: 11\n",
      "Agent moved to state: 12\n",
      "Agent moved to state: 13\n",
      "Agent moved to state: 14\n",
      "Agent moved to state: 15\n",
      "Agent moved to state: 16\n"
     ]
    }
   ],
   "source": [
    "import numpy as np\n",
    "\n",
    "maze = np.array([\n",
    "    [0, 0, 0, 0, 0],\n",
    "    [0, 1, 0, 1, 0],\n",
    "    [0, 0, 0, 0, 0],\n",
    "    [0, 1, 1, 1, 0],\n",
    "    [0, 0, 0, 0, 2]  # 2 is the goal\n",
    "])\n",
    "\n",
    "learning_rate = 0.1\n",
    "discount_factor = 0.9\n",
    "epsilon = 0.1\n",
    "num_episodes = 1000\n",
    "\n",
    "num_states, num_actions = maze.size, 4\n",
    "Q = np.zeros((num_states, num_actions))\n",
    "\n",
    "for _ in range(num_episodes):\n",
    "    state = 0  # Starting position\n",
    "\n",
    "    while True:\n",
    "        action = np.random.choice(num_actions) if np.random.uniform(0, 1) < epsilon else np.argmax(Q[state, :])\n",
    "        new_state = state + [0,1,2,3][action]  # Up, Down, Left, Right\n",
    "        reward = [-1, 1, 0][maze.flat[new_state]]\n",
    "        if reward: break\n",
    "        state = new_state\n",
    "\n",
    "current_state = 0\n",
    "while current_state != 16:  # Goal state\n",
    "    action = np.argmax(Q[current_state, :])\n",
    "    current_state = current_state + (action + 1)\n",
    "    print(\"Agent moved to state:\", current_state)"
   ]
  }
 ],
 "metadata": {
  "kernelspec": {
   "display_name": "Python 3 (ipykernel)",
   "language": "python",
   "name": "python3"
  },
  "language_info": {
   "codemirror_mode": {
    "name": "ipython",
    "version": 3
   },
   "file_extension": ".py",
   "mimetype": "text/x-python",
   "name": "python",
   "nbconvert_exporter": "python",
   "pygments_lexer": "ipython3",
   "version": "3.11.5"
  }
 },
 "nbformat": 4,
 "nbformat_minor": 5
}

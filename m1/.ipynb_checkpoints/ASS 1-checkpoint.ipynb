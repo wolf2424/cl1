{
 "cells": [
  {
   "cell_type": "markdown",
   "id": "b2804e60",
   "metadata": {},
   "source": [
    "Feature Transformation: Apply LDA Algorithm on Iris Dataset\n",
    "and classify which species a given flower belongs to. Dataset\n",
    "Link: https://www.kaggle.com/datasets/uciml/iris"
   ]
  },
  {
   "cell_type": "code",
   "execution_count": 3,
   "id": "6dfe270d",
   "metadata": {},
   "outputs": [],
   "source": [
    "import numpy as np\n",
    "import pandas as pd\n",
    "from sklearn.model_selection import train_test_split\n",
    "from sklearn.preprocessing import StandardScaler\n",
    "from sklearn.linear_model import LogisticRegression\n",
    "from sklearn.discriminant_analysis import LinearDiscriminantAnalysis\n",
    "from sklearn.metrics import accuracy_score,confusion_matrix"
   ]
  },
  {
   "cell_type": "code",
   "execution_count": 4,
   "id": "8a3b8cf0",
   "metadata": {},
   "outputs": [],
   "source": [
    "# df = pd.read_csv('Iris.csv')\n",
    "df = pd.read_csv(r\"F:\\BE\\My Cl1\\CL1\\m1\\Iris.csv\")"
   ]
  },
  {
   "cell_type": "code",
   "execution_count": 5,
   "id": "f75ea5b3",
   "metadata": {},
   "outputs": [
    {
     "data": {
      "text/html": [
       "<div>\n",
       "<style scoped>\n",
       "    .dataframe tbody tr th:only-of-type {\n",
       "        vertical-align: middle;\n",
       "    }\n",
       "\n",
       "    .dataframe tbody tr th {\n",
       "        vertical-align: top;\n",
       "    }\n",
       "\n",
       "    .dataframe thead th {\n",
       "        text-align: right;\n",
       "    }\n",
       "</style>\n",
       "<table border=\"1\" class=\"dataframe\">\n",
       "  <thead>\n",
       "    <tr style=\"text-align: right;\">\n",
       "      <th></th>\n",
       "      <th>Id</th>\n",
       "      <th>SepalLengthCm</th>\n",
       "      <th>SepalWidthCm</th>\n",
       "      <th>PetalLengthCm</th>\n",
       "      <th>PetalWidthCm</th>\n",
       "      <th>Class Label</th>\n",
       "    </tr>\n",
       "  </thead>\n",
       "  <tbody>\n",
       "    <tr>\n",
       "      <th>0</th>\n",
       "      <td>1</td>\n",
       "      <td>5.1</td>\n",
       "      <td>3.5</td>\n",
       "      <td>1.4</td>\n",
       "      <td>0.2</td>\n",
       "      <td>Iris-setosa</td>\n",
       "    </tr>\n",
       "    <tr>\n",
       "      <th>1</th>\n",
       "      <td>2</td>\n",
       "      <td>4.9</td>\n",
       "      <td>3.0</td>\n",
       "      <td>1.4</td>\n",
       "      <td>0.2</td>\n",
       "      <td>Iris-setosa</td>\n",
       "    </tr>\n",
       "    <tr>\n",
       "      <th>2</th>\n",
       "      <td>3</td>\n",
       "      <td>4.7</td>\n",
       "      <td>3.2</td>\n",
       "      <td>1.3</td>\n",
       "      <td>0.2</td>\n",
       "      <td>Iris-setosa</td>\n",
       "    </tr>\n",
       "    <tr>\n",
       "      <th>3</th>\n",
       "      <td>4</td>\n",
       "      <td>4.6</td>\n",
       "      <td>3.1</td>\n",
       "      <td>1.5</td>\n",
       "      <td>0.2</td>\n",
       "      <td>Iris-setosa</td>\n",
       "    </tr>\n",
       "    <tr>\n",
       "      <th>4</th>\n",
       "      <td>5</td>\n",
       "      <td>5.0</td>\n",
       "      <td>3.6</td>\n",
       "      <td>1.4</td>\n",
       "      <td>0.2</td>\n",
       "      <td>Iris-setosa</td>\n",
       "    </tr>\n",
       "    <tr>\n",
       "      <th>...</th>\n",
       "      <td>...</td>\n",
       "      <td>...</td>\n",
       "      <td>...</td>\n",
       "      <td>...</td>\n",
       "      <td>...</td>\n",
       "      <td>...</td>\n",
       "    </tr>\n",
       "    <tr>\n",
       "      <th>145</th>\n",
       "      <td>146</td>\n",
       "      <td>6.7</td>\n",
       "      <td>3.0</td>\n",
       "      <td>5.2</td>\n",
       "      <td>2.3</td>\n",
       "      <td>Iris-virginica</td>\n",
       "    </tr>\n",
       "    <tr>\n",
       "      <th>146</th>\n",
       "      <td>147</td>\n",
       "      <td>6.3</td>\n",
       "      <td>2.5</td>\n",
       "      <td>5.0</td>\n",
       "      <td>1.9</td>\n",
       "      <td>Iris-virginica</td>\n",
       "    </tr>\n",
       "    <tr>\n",
       "      <th>147</th>\n",
       "      <td>148</td>\n",
       "      <td>6.5</td>\n",
       "      <td>3.0</td>\n",
       "      <td>5.2</td>\n",
       "      <td>2.0</td>\n",
       "      <td>Iris-virginica</td>\n",
       "    </tr>\n",
       "    <tr>\n",
       "      <th>148</th>\n",
       "      <td>149</td>\n",
       "      <td>6.2</td>\n",
       "      <td>3.4</td>\n",
       "      <td>5.4</td>\n",
       "      <td>2.3</td>\n",
       "      <td>Iris-virginica</td>\n",
       "    </tr>\n",
       "    <tr>\n",
       "      <th>149</th>\n",
       "      <td>150</td>\n",
       "      <td>5.9</td>\n",
       "      <td>3.0</td>\n",
       "      <td>5.1</td>\n",
       "      <td>1.8</td>\n",
       "      <td>Iris-virginica</td>\n",
       "    </tr>\n",
       "  </tbody>\n",
       "</table>\n",
       "<p>150 rows × 6 columns</p>\n",
       "</div>"
      ],
      "text/plain": [
       "      Id  SepalLengthCm  SepalWidthCm  PetalLengthCm  PetalWidthCm  \\\n",
       "0      1            5.1           3.5            1.4           0.2   \n",
       "1      2            4.9           3.0            1.4           0.2   \n",
       "2      3            4.7           3.2            1.3           0.2   \n",
       "3      4            4.6           3.1            1.5           0.2   \n",
       "4      5            5.0           3.6            1.4           0.2   \n",
       "..   ...            ...           ...            ...           ...   \n",
       "145  146            6.7           3.0            5.2           2.3   \n",
       "146  147            6.3           2.5            5.0           1.9   \n",
       "147  148            6.5           3.0            5.2           2.0   \n",
       "148  149            6.2           3.4            5.4           2.3   \n",
       "149  150            5.9           3.0            5.1           1.8   \n",
       "\n",
       "        Class Label  \n",
       "0       Iris-setosa  \n",
       "1       Iris-setosa  \n",
       "2       Iris-setosa  \n",
       "3       Iris-setosa  \n",
       "4       Iris-setosa  \n",
       "..              ...  \n",
       "145  Iris-virginica  \n",
       "146  Iris-virginica  \n",
       "147  Iris-virginica  \n",
       "148  Iris-virginica  \n",
       "149  Iris-virginica  \n",
       "\n",
       "[150 rows x 6 columns]"
      ]
     },
     "execution_count": 5,
     "metadata": {},
     "output_type": "execute_result"
    }
   ],
   "source": [
    "df"
   ]
  },
  {
   "cell_type": "code",
   "execution_count": 6,
   "id": "72d14965",
   "metadata": {},
   "outputs": [],
   "source": [
    "# X = df.iloc[:,:-1]\n",
    "X = df.drop(columns=[\"Class Label\"])\n",
    "y = df['Class Label']"
   ]
  },
  {
   "cell_type": "code",
   "execution_count": 7,
   "id": "463ab9fc",
   "metadata": {},
   "outputs": [],
   "source": [
    "X_train,X_test,y_train,y_test = train_test_split(X,y,test_size = 0.2 , random_state = 100)"
   ]
  },
  {
   "cell_type": "code",
   "execution_count": 8,
   "id": "a777f6ae",
   "metadata": {},
   "outputs": [
    {
     "data": {
      "text/plain": [
       "(      Id  SepalLengthCm  SepalWidthCm  PetalLengthCm  PetalWidthCm\n",
       " 81    82            5.5           2.4            3.7           1.0\n",
       " 99   100            5.7           2.8            4.1           1.3\n",
       " 119  120            6.0           2.2            5.0           1.5\n",
       " 12    13            4.8           3.0            1.4           0.1\n",
       " 16    17            5.4           3.9            1.3           0.4\n",
       " ..   ...            ...           ...            ...           ...\n",
       " 87    88            6.3           2.3            4.4           1.3\n",
       " 103  104            6.3           2.9            5.6           1.8\n",
       " 67    68            5.8           2.7            4.1           1.0\n",
       " 24    25            4.8           3.4            1.9           0.2\n",
       " 8      9            4.4           2.9            1.4           0.2\n",
       " \n",
       " [120 rows x 5 columns],\n",
       " 81     Iris-versicolor\n",
       " 99     Iris-versicolor\n",
       " 119     Iris-virginica\n",
       " 12         Iris-setosa\n",
       " 16         Iris-setosa\n",
       "             ...       \n",
       " 87     Iris-versicolor\n",
       " 103     Iris-virginica\n",
       " 67     Iris-versicolor\n",
       " 24         Iris-setosa\n",
       " 8          Iris-setosa\n",
       " Name: Class Label, Length: 120, dtype: object)"
      ]
     },
     "execution_count": 8,
     "metadata": {},
     "output_type": "execute_result"
    }
   ],
   "source": [
    "X_train,y_train"
   ]
  },
  {
   "cell_type": "code",
   "execution_count": 9,
   "id": "e47003a7",
   "metadata": {},
   "outputs": [
    {
     "data": {
      "text/plain": [
       "(      Id  SepalLengthCm  SepalWidthCm  PetalLengthCm  PetalWidthCm\n",
       " 128  129            6.4           2.8            5.6           2.1\n",
       " 11    12            4.8           3.4            1.6           0.2\n",
       " 118  119            7.7           2.6            6.9           2.3\n",
       " 15    16            5.7           4.4            1.5           0.4\n",
       " 123  124            6.3           2.7            4.9           1.8\n",
       " 135  136            7.7           3.0            6.1           2.3\n",
       " 32    33            5.2           4.1            1.5           0.1\n",
       " 1      2            4.9           3.0            1.4           0.2\n",
       " 116  117            6.5           3.0            5.5           1.8\n",
       " 45    46            4.8           3.0            1.4           0.3\n",
       " 40    41            5.0           3.5            1.3           0.3\n",
       " 115  116            6.4           3.2            5.3           2.3\n",
       " 26    27            5.0           3.4            1.6           0.4\n",
       " 28    29            5.2           3.4            1.4           0.2\n",
       " 145  146            6.7           3.0            5.2           2.3\n",
       " 97    98            6.2           2.9            4.3           1.3\n",
       " 62    63            6.0           2.2            4.0           1.0\n",
       " 77    78            6.7           3.0            5.0           1.7\n",
       " 122  123            7.7           2.8            6.7           2.0\n",
       " 112  113            6.8           3.0            5.5           2.1\n",
       " 125  126            7.2           3.2            6.0           1.8\n",
       " 31    32            5.4           3.4            1.5           0.4\n",
       " 146  147            6.3           2.5            5.0           1.9\n",
       " 29    30            4.7           3.2            1.6           0.2\n",
       " 69    70            5.6           2.5            3.9           1.1\n",
       " 149  150            5.9           3.0            5.1           1.8\n",
       " 75    76            6.6           3.0            4.4           1.4\n",
       " 20    21            5.4           3.4            1.7           0.2\n",
       " 73    74            6.1           2.8            4.7           1.2\n",
       " 120  121            6.9           3.2            5.7           2.3,\n",
       " 128     Iris-virginica\n",
       " 11         Iris-setosa\n",
       " 118     Iris-virginica\n",
       " 15         Iris-setosa\n",
       " 123     Iris-virginica\n",
       " 135     Iris-virginica\n",
       " 32         Iris-setosa\n",
       " 1          Iris-setosa\n",
       " 116     Iris-virginica\n",
       " 45         Iris-setosa\n",
       " 40         Iris-setosa\n",
       " 115     Iris-virginica\n",
       " 26         Iris-setosa\n",
       " 28         Iris-setosa\n",
       " 145     Iris-virginica\n",
       " 97     Iris-versicolor\n",
       " 62     Iris-versicolor\n",
       " 77     Iris-versicolor\n",
       " 122     Iris-virginica\n",
       " 112     Iris-virginica\n",
       " 125     Iris-virginica\n",
       " 31         Iris-setosa\n",
       " 146     Iris-virginica\n",
       " 29         Iris-setosa\n",
       " 69     Iris-versicolor\n",
       " 149     Iris-virginica\n",
       " 75     Iris-versicolor\n",
       " 20         Iris-setosa\n",
       " 73     Iris-versicolor\n",
       " 120     Iris-virginica\n",
       " Name: Class Label, dtype: object)"
      ]
     },
     "execution_count": 9,
     "metadata": {},
     "output_type": "execute_result"
    }
   ],
   "source": [
    "X_test,y_test"
   ]
  },
  {
   "cell_type": "code",
   "execution_count": 10,
   "id": "9299ea33",
   "metadata": {},
   "outputs": [],
   "source": [
    "scaler = StandardScaler()\n",
    "X_train_scaled = scaler.fit_transform(X_train)\n",
    "X_test_scaled = scaler.transform(X_test)"
   ]
  },
  {
   "cell_type": "code",
   "execution_count": 11,
   "id": "93d1ee21",
   "metadata": {},
   "outputs": [],
   "source": [
    "lda = LinearDiscriminantAnalysis(n_components = 2)\n",
    "X_train_lda = lda.fit_transform(X_train_scaled,y_train)\n",
    "X_test_lda = lda.transform(X_test_scaled)"
   ]
  },
  {
   "cell_type": "code",
   "execution_count": 12,
   "id": "76c0e821",
   "metadata": {},
   "outputs": [
    {
     "data": {
      "text/plain": [
       "(120, 2)"
      ]
     },
     "execution_count": 12,
     "metadata": {},
     "output_type": "execute_result"
    }
   ],
   "source": [
    "X_train_lda.shape"
   ]
  },
  {
   "cell_type": "code",
   "execution_count": 13,
   "id": "c994d3af",
   "metadata": {},
   "outputs": [],
   "source": [
    "classifier = LogisticRegression()\n",
    "classifier.fit(X_train_lda,y_train)\n",
    "y_pred = classifier.predict(X_test_lda)"
   ]
  },
  {
   "cell_type": "code",
   "execution_count": 14,
   "id": "c23c083f",
   "metadata": {},
   "outputs": [
    {
     "name": "stdout",
     "output_type": "stream",
     "text": [
      "Accuracy : 1.0\n",
      "Confusion matrix :\n",
      " [[11  0  0]\n",
      " [ 0  6  0]\n",
      " [ 0  0 13]]\n"
     ]
    }
   ],
   "source": [
    "accuracy = accuracy_score(y_test,y_pred)\n",
    "conf_matrix = confusion_matrix(y_test,y_pred)\n",
    "\n",
    "print('Accuracy :',accuracy)\n",
    "print('Confusion matrix :\\n',conf_matrix)"
   ]
  },
  {
   "cell_type": "code",
   "execution_count": null,
   "id": "9e5dcbfb",
   "metadata": {},
   "outputs": [],
   "source": []
  }
 ],
 "metadata": {
  "kernelspec": {
   "display_name": "Python 3 (ipykernel)",
   "language": "python",
   "name": "python3"
  },
  "language_info": {
   "codemirror_mode": {
    "name": "ipython",
    "version": 3
   },
   "file_extension": ".py",
   "mimetype": "text/x-python",
   "name": "python",
   "nbconvert_exporter": "python",
   "pygments_lexer": "ipython3",
   "version": "3.11.5"
  }
 },
 "nbformat": 4,
 "nbformat_minor": 5
}
